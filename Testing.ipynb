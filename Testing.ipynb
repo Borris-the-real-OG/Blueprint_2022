{
 "cells": [
  {
   "cell_type": "code",
   "execution_count": 1,
   "metadata": {},
   "outputs": [],
   "source": [
    "from Crypto import *"
   ]
  },
  {
   "cell_type": "code",
   "execution_count": 51,
   "metadata": {},
   "outputs": [
    {
     "name": "stdout",
     "output_type": "stream",
     "text": [
      "Max length: 1332980, actual length: 259\n",
      "b'\\n\\x03\\r\\t\\x02\\x0c\\x08\\x01\\x0b\\x06\\x0f\\t\\x05\\x0e\\x08\\x04\\r\\x07\\x03\\x0c\\x06\\x00\\x0b\\x05\\x00\\x0b\\x05\\x0e\\t\\x03\\r\\x08'\n"
     ]
    }
   ],
   "source": [
    "# uses ppm in ascii format, not bin\n",
    "def keyFromCat(file):\n",
    "    with open(file, 'r') as f:\n",
    "        contents = f.readlines() # num pixels * 3 + 4\n",
    "\n",
    "        (width, height) = [int(i) for i in contents[2].split(\" \")]\n",
    "        assert(int(contents[3]) == 255)\n",
    "        max_length = width*height-20\n",
    "\n",
    "        # we need key length\n",
    "        # we'll start from rc4, that seems the easiest to implement\n",
    "        # let's say keys can be 1000 somethings long, so +-5 on each rgb value\n",
    "\n",
    "        lenny = (int(contents[4]) % 10) * 100 + (int(contents[5]) % 10) * 10 + (int(contents[6]) % 10)\n",
    "        assert(max_length > lenny)\n",
    "        print(f\"Max length: {max_length}, actual length: {lenny}\")\n",
    "\n",
    "        #key_in_int = [int(\"0o\" + str(int(contents[i]) % 8) + str(int(contents[i+1]) % 8) + str(int(contents[i+2]) % 8), base=8) for i in range(7, 7+lenny*3, 3)]\n",
    "        key_in_int = [int(contents[i]) % 16 for i in range(7, lenny)]\n",
    "        if (t := len(key_in_int)) < 16:\n",
    "            ValueError(\"try a bigger image\")\n",
    "        elif t < 24:\n",
    "            return bytes(key_in_int[:16])\n",
    "        elif t < 24:\n",
    "            return bytes(key_in_int[:24])\n",
    "        else:\n",
    "            return bytes(key_in_int[:32])\n",
    "\n",
    "print(keyFromCat(\"Cat.ppm\"))"
   ]
  },
  {
   "cell_type": "code",
   "execution_count": 48,
   "metadata": {},
   "outputs": [],
   "source": [
    "from Crypto.Cipher import AES\n",
    "def encryptFile(file, key):\n",
    "    # match for different encryption schemes\n",
    "    cipher = AES.new(key, AES.MODE_EAX)\n",
    "    nonce = cipher.nonce\n",
    "\n",
    "    with open(file, 'rb') as f:\n",
    "        ciphertext, tag = cipher.encrypt_and_digest(f.read())\n",
    "    return (nonce, ciphertext, tag)"
   ]
  },
  {
   "cell_type": "code",
   "execution_count": 54,
   "metadata": {},
   "outputs": [
    {
     "name": "stdout",
     "output_type": "stream",
     "text": [
      "Max length: 1332980, actual length: 259\n",
      "Max length: 1332980, actual length: 259\n",
      "b'<!DOCTYPE html>\\r\\n<head>\\r\\n    <title> Gru? </title>\\r\\n    <link type=\\'text/css\\' href=\\'central.css\\' rel=\\'stylesheet\\' />\\r\\n</head>\\r\\n<body>\\r\\n    <div class = \"body_content\">\\r\\n        <div class = \"Intial-Text\">\\r\\n            <h1>Here you will find a collection of astronomical objects. All desireable for some petty little thiefs.</h1>\\r\\n        </div>\\r\\n        <div>\\r\\n            <p id = \"HiddenText\"> Maybe think of someone with a lot of MINIONS...</p>\\r\\n        </div>\\r\\n        <div class = \"central-items\" >\\r\\n            <img id = \"central-image\" , src = \"full-moon-moon-bright-sky-47367.jpeg\">\\r\\n            <div class = \"Input-buttons\">\\r\\n                <input class = \"inputs\" id = \"Astro_Search\">\\r\\n                <div class = \"buttons\">\\r\\n                    <div id = \"Search\"> Search the System</div>\\r\\n                    <div id = \"Random\"> Random Catcher</div>\\r\\n                </div>\\r\\n            </div>\\r\\n        </div>\\r\\n    </div>\\r\\n</body>'\n"
     ]
    }
   ],
   "source": [
    "file = \"html_central.html\"\n",
    "nonce, encrypted, tag = encryptFile(file, keyFromCat(\"Cat.ppm\"))\n",
    "with open(file+\".kky\", 'wb') as f:\n",
    "    f.write(encrypted)\n",
    "cipher = AES.new(keyFromCat(\"Cat.ppm\"), AES.MODE_EAX, nonce=nonce)\n",
    "print(cipher.decrypt(encrypted))"
   ]
  }
 ],
 "metadata": {
  "interpreter": {
   "hash": "2be5faf79681da6f2a61fdfdd5405d65d042280f7fba6178067603e3a2925119"
  },
  "kernelspec": {
   "display_name": "Python 3.10.0 64-bit",
   "language": "python",
   "name": "python3"
  },
  "language_info": {
   "codemirror_mode": {
    "name": "ipython",
    "version": 3
   },
   "file_extension": ".py",
   "mimetype": "text/x-python",
   "name": "python",
   "nbconvert_exporter": "python",
   "pygments_lexer": "ipython3",
   "version": "3.10.0"
  },
  "orig_nbformat": 4
 },
 "nbformat": 4,
 "nbformat_minor": 2
}
